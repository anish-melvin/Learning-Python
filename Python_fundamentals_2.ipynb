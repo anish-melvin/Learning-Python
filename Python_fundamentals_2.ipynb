{
  "nbformat": 4,
  "nbformat_minor": 0,
  "metadata": {
    "colab": {
      "provenance": [],
      "authorship_tag": "ABX9TyMgHf8NVWL+SfoFb/W8G9Ls",
      "include_colab_link": true
    },
    "kernelspec": {
      "name": "python3",
      "display_name": "Python 3"
    },
    "language_info": {
      "name": "python"
    }
  },
  "cells": [
    {
      "cell_type": "markdown",
      "metadata": {
        "id": "view-in-github",
        "colab_type": "text"
      },
      "source": [
        "<a href=\"https://colab.research.google.com/github/anish-melvin/Learning-Python/blob/main/Python_fundamentals_2.ipynb\" target=\"_parent\"><img src=\"https://colab.research.google.com/assets/colab-badge.svg\" alt=\"Open In Colab\"/></a>"
      ]
    },
    {
      "cell_type": "code",
      "execution_count": null,
      "metadata": {
        "id": "3ivZ1s5GlydA",
        "outputId": "1da2d1a4-26fb-40fe-be8a-063c87980d8e",
        "colab": {
          "base_uri": "https://localhost:8080/"
        }
      },
      "outputs": [
        {
          "output_type": "execute_result",
          "data": {
            "text/plain": [
              "3"
            ]
          },
          "metadata": {},
          "execution_count": 1
        }
      ],
      "source": []
    },
    {
      "cell_type": "code",
      "source": [
        "#day2\n",
        "# two loops in list comprehension\n",
        "\n",
        "[i for i in a for j in b if i==j]"
      ],
      "metadata": {
        "id": "OvUX3HDl7h2n",
        "colab": {
          "base_uri": "https://localhost:8080/"
        },
        "outputId": "84c8e1b2-2b38-4876-9fff-f515a117fa79"
      },
      "execution_count": null,
      "outputs": [
        {
          "output_type": "execute_result",
          "data": {
            "text/plain": [
              "[102, 233, 456, 564]"
            ]
          },
          "metadata": {},
          "execution_count": 4
        }
      ]
    },
    {
      "cell_type": "code",
      "source": [
        "#18 <= young\n",
        "#60 >= old\n",
        "#else = middle\n",
        "\n",
        "a = [13,25,57,35,76,71,69,45]\n",
        "\n",
        "for i in a:\n",
        "  if i<=18:\n",
        "    print(\"young\")\n",
        "  elif i>=60:\n",
        "    print(\"old\")\n",
        "  else:\n",
        "    print(\"middle\")\n"
      ],
      "metadata": {
        "colab": {
          "base_uri": "https://localhost:8080/"
        },
        "id": "gAXiFtAwiQyL",
        "outputId": "24334d2f-3e1e-45f7-de74-19c7b1d48b70"
      },
      "execution_count": null,
      "outputs": [
        {
          "output_type": "stream",
          "name": "stdout",
          "text": [
            "young\n",
            "middle\n",
            "middle\n",
            "middle\n",
            "old\n",
            "old\n",
            "old\n",
            "middle\n"
          ]
        }
      ]
    },
    {
      "cell_type": "code",
      "source": [
        "#using list comprehension\n",
        "#writing on left when condition ouput is required\n",
        "a = [13,25,57,35,76,71,69,45]\n",
        "[\"young\" if i<=18 else \"old\" if i>=60 else \"middle\" for i in a]"
      ],
      "metadata": {
        "colab": {
          "base_uri": "https://localhost:8080/"
        },
        "id": "N3rOQS49it_Y",
        "outputId": "b2c081fa-ea18-4dc8-d473-dc3b96d6008e"
      },
      "execution_count": null,
      "outputs": [
        {
          "output_type": "execute_result",
          "data": {
            "text/plain": [
              "['young', 'middle', 'middle', 'middle', 'old', 'old', 'old', 'middle']"
            ]
          },
          "metadata": {},
          "execution_count": 12
        }
      ]
    },
    {
      "cell_type": "code",
      "source": [
        "#find number divisible by 2 and 3 in list comprehension\n",
        "\n",
        "a = [1,2,3,4,5,6,7,8,9,10,11,12,13,14,15,16,17,18,19,20]\n",
        "[i for i in a if i%2==0 and i%3==0]"
      ],
      "metadata": {
        "colab": {
          "base_uri": "https://localhost:8080/"
        },
        "id": "hmzdxjTEkajV",
        "outputId": "f46b23be-d584-499f-c42b-8279926adbbc"
      },
      "execution_count": null,
      "outputs": [
        {
          "output_type": "execute_result",
          "data": {
            "text/plain": [
              "[6, 12, 18]"
            ]
          },
          "metadata": {},
          "execution_count": 15
        }
      ]
    },
    {
      "cell_type": "code",
      "source": [
        "#funtion\n",
        "#write function for sum, sum()\n",
        "\n",
        "a = \"945464\"\n",
        "\n",
        "sum([int(i) for i in str(a)])"
      ],
      "metadata": {
        "colab": {
          "base_uri": "https://localhost:8080/"
        },
        "id": "8VxeYxzXld-6",
        "outputId": "6abe187f-7edf-4815-a710-6c0e38c9c37b"
      },
      "execution_count": null,
      "outputs": [
        {
          "output_type": "execute_result",
          "data": {
            "text/plain": [
              "32"
            ]
          },
          "metadata": {},
          "execution_count": 2
        }
      ]
    },
    {
      "cell_type": "code",
      "source": [
        "def my_sum(a):\n",
        "  return sum([int(i) for i in str(a)])"
      ],
      "metadata": {
        "id": "a3a6A0mXo2XH"
      },
      "execution_count": null,
      "outputs": []
    },
    {
      "cell_type": "code",
      "source": [
        "my_sum(541646)"
      ],
      "metadata": {
        "colab": {
          "base_uri": "https://localhost:8080/"
        },
        "id": "pVHc2g8xqLc1",
        "outputId": "eee3ded9-1a49-4874-e0af-01fb9530b529"
      },
      "execution_count": null,
      "outputs": [
        {
          "output_type": "execute_result",
          "data": {
            "text/plain": [
              "8"
            ]
          },
          "metadata": {},
          "execution_count": 3
        }
      ]
    },
    {
      "source": [
        "# Function to calculate the sum of digits in a number\n",
        "def add_sum(a):\n",
        "    return sum([int(i) for i in str(a)])\n",
        "\n",
        "# Call the function with the number\n",
        "result = add_sum(541646)\n",
        "\n",
        "# Print the result\n",
        "print(result)\n",
        "\n",
        "#asked question in stackoverflow"
      ],
      "cell_type": "code",
      "metadata": {
        "id": "PlfQxGmCUaaM",
        "colab": {
          "base_uri": "https://localhost:8080/"
        },
        "outputId": "c3380903-0546-4608-f8ab-aa66c7324c06"
      },
      "execution_count": null,
      "outputs": [
        {
          "output_type": "stream",
          "name": "stdout",
          "text": [
            "26\n"
          ]
        }
      ]
    },
    {
      "cell_type": "code",
      "source": [
        "#question add until we get single digit output\n",
        "\n",
        "a = 12345321\n",
        "\n",
        "def my_sum(a):\n",
        "  b = sum([int(i) for i in str(a)])\n",
        "  if b>9:\n",
        "    return my_sum(b)\n",
        "  else:\n",
        "    return b\n",
        "\n",
        "my_sum(12345321)\n",
        "\n",
        "#output got in jupyter notebook, for some reason colab throwing error :("
      ],
      "metadata": {
        "id": "UpFWRM4qUA-h",
        "colab": {
          "base_uri": "https://localhost:8080/"
        },
        "outputId": "ae26368b-31eb-414c-e854-c372f0d83e33"
      },
      "execution_count": null,
      "outputs": [
        {
          "output_type": "execute_result",
          "data": {
            "text/plain": [
              "3"
            ]
          },
          "metadata": {},
          "execution_count": 5
        }
      ]
    },
    {
      "cell_type": "code",
      "source": [
        "#lambda function\n",
        "addition = lambda a,b: a+b\n",
        "multiply = lambda a,b: a*b"
      ],
      "metadata": {
        "id": "G34Q3Qz4blx1"
      },
      "execution_count": null,
      "outputs": []
    },
    {
      "cell_type": "code",
      "source": [
        "addition(56,47)"
      ],
      "metadata": {
        "colab": {
          "base_uri": "https://localhost:8080/"
        },
        "id": "r60igqe2mfId",
        "outputId": "90668cb5-ace2-4b06-cc03-ca613a3c2eea"
      },
      "execution_count": null,
      "outputs": [
        {
          "output_type": "execute_result",
          "data": {
            "text/plain": [
              "103"
            ]
          },
          "metadata": {},
          "execution_count": 17
        }
      ]
    },
    {
      "cell_type": "code",
      "source": [
        "multiply(48,45)"
      ],
      "metadata": {
        "colab": {
          "base_uri": "https://localhost:8080/"
        },
        "id": "vZ9A5wFPnfk0",
        "outputId": "d33f086b-e89b-4668-be01-cfe819ce569c"
      },
      "execution_count": null,
      "outputs": [
        {
          "output_type": "execute_result",
          "data": {
            "text/plain": [
              "2160"
            ]
          },
          "metadata": {},
          "execution_count": 18
        }
      ]
    },
    {
      "cell_type": "code",
      "source": [
        "#find odd even\n",
        "\n",
        "a = lambda a: \"even\" if a%2==0 else \"odd\"\n",
        "\n",
        "a(29)"
      ],
      "metadata": {
        "colab": {
          "base_uri": "https://localhost:8080/",
          "height": 36
        },
        "id": "RvfwZo_do_Uv",
        "outputId": "f27360f8-a394-4a41-a653-dbdcf463b02e"
      },
      "execution_count": null,
      "outputs": [
        {
          "output_type": "execute_result",
          "data": {
            "text/plain": [
              "'odd'"
            ],
            "application/vnd.google.colaboratory.intrinsic+json": {
              "type": "string"
            }
          },
          "metadata": {},
          "execution_count": 26
        }
      ]
    },
    {
      "cell_type": "code",
      "source": [
        "a = [12,44,39,37,26]\n",
        "[round((i/45)*100,2) for i in a]\n"
      ],
      "metadata": {
        "colab": {
          "base_uri": "https://localhost:8080/"
        },
        "id": "ZrHd9ux9pGIW",
        "outputId": "aa62c113-062e-47eb-a0b0-8bbfd5a71ee6"
      },
      "execution_count": null,
      "outputs": [
        {
          "output_type": "execute_result",
          "data": {
            "text/plain": [
              "[26.67, 97.78, 86.67, 82.22, 57.78]"
            ]
          },
          "metadata": {},
          "execution_count": 44
        }
      ]
    },
    {
      "cell_type": "code",
      "source": [
        "#map,filter,reduce\n",
        "\n",
        "#map\n",
        "\n",
        "a = [12,56,47]\n",
        "b = [65,41,17]\n",
        "\n",
        "list(map(addition,a,b))"
      ],
      "metadata": {
        "id": "HrccW-lJmh1N",
        "colab": {
          "base_uri": "https://localhost:8080/"
        },
        "outputId": "a05fac8c-c885-4092-ef9e-14063eef7c72"
      },
      "execution_count": null,
      "outputs": [
        {
          "output_type": "execute_result",
          "data": {
            "text/plain": [
              "[77, 97, 64]"
            ]
          },
          "metadata": {},
          "execution_count": 32
        }
      ]
    },
    {
      "cell_type": "code",
      "source": [
        "odd_even = [24,87,51,64,34,36,33,21]\n",
        "x = lambda x: \"even\" if x%2==0 else \"odd\"\n",
        "list(map(x,odd_even))"
      ],
      "metadata": {
        "colab": {
          "base_uri": "https://localhost:8080/"
        },
        "id": "eH4zhIkFnOVk",
        "outputId": "5ba47e72-5ba8-4fb3-bbb0-a0777c6acedb"
      },
      "execution_count": 7,
      "outputs": [
        {
          "output_type": "execute_result",
          "data": {
            "text/plain": [
              "['even', 'odd', 'odd', 'even', 'even', 'even', 'odd', 'odd']"
            ]
          },
          "metadata": {},
          "execution_count": 7
        }
      ]
    },
    {
      "cell_type": "code",
      "source": [
        "a = [12,56,47]\n",
        "b = [65,41,17]\n",
        "\n",
        "addition = lambda a,b: a+b\n",
        "\n",
        "list(map(addition,a,b))"
      ],
      "metadata": {
        "colab": {
          "base_uri": "https://localhost:8080/"
        },
        "id": "Y5bP5RdqqLoT",
        "outputId": "f9ace055-a022-4705-af7a-00034162616e"
      },
      "execution_count": null,
      "outputs": [
        {
          "output_type": "execute_result",
          "data": {
            "text/plain": [
              "[77, 97, 64]"
            ]
          },
          "metadata": {},
          "execution_count": 48
        }
      ]
    },
    {
      "cell_type": "code",
      "source": [
        "#filter\n",
        "\n",
        "x = lambda x: True if x%2==0 else False\n",
        "\n",
        "list1 = range(1,50)\n",
        "list(filter(x,list1))"
      ],
      "metadata": {
        "id": "_lQ54A5krB6h",
        "colab": {
          "base_uri": "https://localhost:8080/"
        },
        "outputId": "ad6be56f-7a18-4ba7-845d-8fcc0909d49a"
      },
      "execution_count": 14,
      "outputs": [
        {
          "output_type": "execute_result",
          "data": {
            "text/plain": [
              "[2,\n",
              " 4,\n",
              " 6,\n",
              " 8,\n",
              " 10,\n",
              " 12,\n",
              " 14,\n",
              " 16,\n",
              " 18,\n",
              " 20,\n",
              " 22,\n",
              " 24,\n",
              " 26,\n",
              " 28,\n",
              " 30,\n",
              " 32,\n",
              " 34,\n",
              " 36,\n",
              " 38,\n",
              " 40,\n",
              " 42,\n",
              " 44,\n",
              " 46,\n",
              " 48]"
            ]
          },
          "metadata": {},
          "execution_count": 14
        }
      ]
    },
    {
      "cell_type": "code",
      "source": [
        "def evennumber(x):\n",
        "  if x%2==0:\n",
        "    print(\"even\")\n",
        "  else:\n",
        "    print(\"odd\")"
      ],
      "metadata": {
        "id": "10UywIpKYDWF"
      },
      "execution_count": 29,
      "outputs": []
    },
    {
      "cell_type": "code",
      "source": [
        "odd_even = [24,87,51,64,34,36,33,21]\n",
        "\n",
        "List_OE = list(map(x,odd_even))\n",
        "List_OE\n",
        "\n"
      ],
      "metadata": {
        "colab": {
          "base_uri": "https://localhost:8080/"
        },
        "id": "b8keCQidaNza",
        "outputId": "5bfaa2c1-3605-4465-cb16-5ed41056815b"
      },
      "execution_count": 47,
      "outputs": [
        {
          "output_type": "execute_result",
          "data": {
            "text/plain": [
              "[True, False, False, True, True, True, False, False]"
            ]
          },
          "metadata": {},
          "execution_count": 47
        }
      ]
    },
    {
      "cell_type": "code",
      "source": [
        "#reduce\n",
        "\n",
        "from functools import reduce\n",
        "\n",
        "sale = [1154654,487964,6787,64548,9768974,7854,867487]\n",
        "\n",
        "reduce(lambda x,y: x+y,sale)\n"
      ],
      "metadata": {
        "colab": {
          "base_uri": "https://localhost:8080/"
        },
        "id": "zMv2Tly-dnJG",
        "outputId": "96294177-1715-4a02-ca82-f250d5e69f88"
      },
      "execution_count": 48,
      "outputs": [
        {
          "output_type": "execute_result",
          "data": {
            "text/plain": [
              "12358268"
            ]
          },
          "metadata": {},
          "execution_count": 48
        }
      ]
    },
    {
      "cell_type": "code",
      "source": [],
      "metadata": {
        "id": "XGH8s_d1e6J9"
      },
      "execution_count": null,
      "outputs": []
    }
  ]
}