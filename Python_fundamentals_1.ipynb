{
  "nbformat": 4,
  "nbformat_minor": 0,
  "metadata": {
    "colab": {
      "provenance": [],
      "authorship_tag": "ABX9TyM8onOtV/r/lUcDtsp4Zeju",
      "include_colab_link": true
    },
    "kernelspec": {
      "name": "python3",
      "display_name": "Python 3"
    },
    "language_info": {
      "name": "python"
    }
  },
  "cells": [
    {
      "cell_type": "markdown",
      "metadata": {
        "id": "view-in-github",
        "colab_type": "text"
      },
      "source": [
        "<a href=\"https://colab.research.google.com/github/anish-melvin/Learning-Python/blob/main/Python_fundamentals_1.ipynb\" target=\"_parent\"><img src=\"https://colab.research.google.com/assets/colab-badge.svg\" alt=\"Open In Colab\"/></a>"
      ]
    },
    {
      "cell_type": "code",
      "execution_count": null,
      "metadata": {
        "id": "ALB0KGNi4sC1"
      },
      "outputs": [],
      "source": [
        "#list comprehension\n",
        "#function definition\n",
        "#lamba/map/filter"
      ]
    },
    {
      "cell_type": "code",
      "source": [
        "#square operation\n",
        "a = [11,12,13,43,56]\n",
        "sq_a = []\n",
        "\n",
        "for i in a:\n",
        "  sq_a.append(i**2)\n",
        "print(sq_a)"
      ],
      "metadata": {
        "colab": {
          "base_uri": "https://localhost:8080/"
        },
        "id": "dskvEjCO42ay",
        "outputId": "c00e5153-8015-4dac-fedd-48ccf03b8e1b"
      },
      "execution_count": null,
      "outputs": [
        {
          "output_type": "stream",
          "name": "stdout",
          "text": [
            "[121, 144, 169, 1849, 3136]\n"
          ]
        }
      ]
    },
    {
      "cell_type": "code",
      "source": [
        "#list comprehension\n",
        "[i**2 for i in a]"
      ],
      "metadata": {
        "colab": {
          "base_uri": "https://localhost:8080/"
        },
        "id": "Lv24ybYO5oWJ",
        "outputId": "ebe7cdc6-4d3b-4f2a-ab28-7954ffae1266"
      },
      "execution_count": null,
      "outputs": [
        {
          "output_type": "execute_result",
          "data": {
            "text/plain": [
              "[121, 144, 169, 1849, 3136]"
            ]
          },
          "metadata": {},
          "execution_count": 3
        }
      ]
    },
    {
      "cell_type": "code",
      "source": [
        "#upper\n",
        "#lower\n",
        "#capitalize\n",
        "\n",
        "a = [\"my\", \"name\", \"is\", \"anish\", \"melvin\"]\n",
        "[i.upper() for i in a]"
      ],
      "metadata": {
        "colab": {
          "base_uri": "https://localhost:8080/"
        },
        "id": "JfGpjM646OzK",
        "outputId": "37f674d0-3709-4319-bf13-5a980b8319c1"
      },
      "execution_count": null,
      "outputs": [
        {
          "output_type": "execute_result",
          "data": {
            "text/plain": [
              "['MY', 'NAME', 'IS', 'ANISH', 'MELVIN']"
            ]
          },
          "metadata": {},
          "execution_count": 6
        }
      ]
    },
    {
      "cell_type": "code",
      "source": [
        "#convert to list and comprehend\n",
        "a = \"i love sports very much\"\n",
        "\n",
        "[i.capitalize() for i in a.split()]"
      ],
      "metadata": {
        "colab": {
          "base_uri": "https://localhost:8080/"
        },
        "id": "S1caHuLB7iWB",
        "outputId": "acd2f03e-c89a-4db6-9985-6c5cde83828d"
      },
      "execution_count": null,
      "outputs": [
        {
          "output_type": "execute_result",
          "data": {
            "text/plain": [
              "['I', 'Love', 'Sports', 'Very', 'Much']"
            ]
          },
          "metadata": {},
          "execution_count": 7
        }
      ]
    },
    {
      "cell_type": "code",
      "source": [
        "#print even number\n",
        "\n",
        "a = [0,1,2,3,4,5,6,7,8,9,10]\n",
        "\n",
        "[i for i in a if i%2==0]"
      ],
      "metadata": {
        "colab": {
          "base_uri": "https://localhost:8080/"
        },
        "id": "7U3-8zum8DLB",
        "outputId": "95182a8b-c375-4c00-e2f3-25dd2052943e"
      },
      "execution_count": 3,
      "outputs": [
        {
          "output_type": "execute_result",
          "data": {
            "text/plain": [
              "[0, 2, 4, 6, 8, 10]"
            ]
          },
          "metadata": {},
          "execution_count": 3
        }
      ]
    },
    {
      "cell_type": "code",
      "source": [
        "a = [1,2,3,4,5,6,7,8,9,10]\n",
        "\n",
        "[\"Even\" if i%2==0 else \"Odd\" for i in a]"
      ],
      "metadata": {
        "id": "jabGyLXx8aX4",
        "colab": {
          "base_uri": "https://localhost:8080/"
        },
        "outputId": "41fc91e3-157c-430d-bb69-a3a9f2385e2b"
      },
      "execution_count": 24,
      "outputs": [
        {
          "output_type": "execute_result",
          "data": {
            "text/plain": [
              "['Odd', 'Even', 'Odd', 'Even', 'Odd', 'Even', 'Odd', 'Even', 'Odd', 'Even']"
            ]
          },
          "metadata": {},
          "execution_count": 24
        }
      ]
    },
    {
      "cell_type": "code",
      "source": [
        "a = [102,232,233,344,456,564,234]\n",
        "b = [102,233,324,564,567,523,456]\n",
        "\n",
        "set(a)&set(b)"
      ],
      "metadata": {
        "colab": {
          "base_uri": "https://localhost:8080/"
        },
        "id": "TP9wgWzXvUjo",
        "outputId": "a738675c-dde7-42d3-a02f-77775c598d2d"
      },
      "execution_count": 28,
      "outputs": [
        {
          "output_type": "execute_result",
          "data": {
            "text/plain": [
              "{102, 233, 456, 564}"
            ]
          },
          "metadata": {},
          "execution_count": 28
        }
      ]
    },
    {
      "cell_type": "code",
      "source": [],
      "metadata": {
        "id": "OvUX3HDl7h2n"
      },
      "execution_count": null,
      "outputs": []
    }
  ]
}