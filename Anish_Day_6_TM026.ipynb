{
  "nbformat": 4,
  "nbformat_minor": 0,
  "metadata": {
    "colab": {
      "provenance": [],
      "authorship_tag": "ABX9TyMQGtsvM0Ke/YRRdajwIcco",
      "include_colab_link": true
    },
    "kernelspec": {
      "name": "python3",
      "display_name": "Python 3"
    },
    "language_info": {
      "name": "python"
    }
  },
  "cells": [
    {
      "cell_type": "markdown",
      "metadata": {
        "id": "view-in-github",
        "colab_type": "text"
      },
      "source": [
        "<a href=\"https://colab.research.google.com/github/anish-melvin/Learning-Python/blob/main/Anish_Day_6_TM026.ipynb\" target=\"_parent\"><img src=\"https://colab.research.google.com/assets/colab-badge.svg\" alt=\"Open In Colab\"/></a>"
      ]
    },
    {
      "cell_type": "code",
      "execution_count": 1,
      "metadata": {
        "id": "9_JfqctoOBSc"
      },
      "outputs": [],
      "source": [
        "#binary search\n",
        "\n",
        "def binary_search(arr,target):\n",
        "  low,high = 0,len(arr)-1\n",
        "  while low<=high:\n",
        "    mid = (low+high)//2\n",
        "    if arr[mid]==target:\n",
        "      return mid\n",
        "    elif arr[mid]<target:\n",
        "      low = mid+1\n",
        "    else:\n",
        "      high = mid-1\n",
        "  return -1"
      ]
    },
    {
      "cell_type": "code",
      "source": [],
      "metadata": {
        "id": "b9_oSoeSctgd"
      },
      "execution_count": null,
      "outputs": []
    }
  ]
}