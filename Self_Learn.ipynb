{
  "nbformat": 4,
  "nbformat_minor": 0,
  "metadata": {
    "colab": {
      "provenance": []
    },
    "kernelspec": {
      "name": "python3",
      "display_name": "Python 3"
    },
    "language_info": {
      "name": "python"
    }
  },
  "cells": [
    {
      "cell_type": "markdown",
      "source": [
        "**Day 1 08/02/2024**"
      ],
      "metadata": {
        "id": "ojOJuSEbM2dT"
      }
    },
    {
      "cell_type": "code",
      "source": [],
      "metadata": {
        "id": "TZ84V2TiKfqn"
      },
      "execution_count": null,
      "outputs": []
    },
    {
      "cell_type": "code",
      "source": [],
      "metadata": {
        "id": "1Fu2rjJaKf5n"
      },
      "execution_count": null,
      "outputs": []
    },
    {
      "cell_type": "code",
      "source": [
        "a = \"10\"\n",
        "b = \"10\"\n",
        "c= a+b\n",
        "print(c)"
      ],
      "metadata": {
        "colab": {
          "base_uri": "https://localhost:8080/"
        },
        "id": "J-1-_OehVuan",
        "outputId": "904760e2-817e-4b80-cf33-64cfc73e8810"
      },
      "execution_count": null,
      "outputs": [
        {
          "output_type": "stream",
          "name": "stdout",
          "text": [
            "1010\n"
          ]
        }
      ]
    },
    {
      "cell_type": "code",
      "source": [
        "a = input(int())\n",
        "b = input(int())\n",
        "c = a+b\n",
        "\n",
        "print(c)"
      ],
      "metadata": {
        "colab": {
          "base_uri": "https://localhost:8080/"
        },
        "id": "DPSNR4RJV1uH",
        "outputId": "07186d44-0c9c-422d-9da2-7ec9db14895d"
      },
      "execution_count": null,
      "outputs": [
        {
          "output_type": "stream",
          "name": "stdout",
          "text": [
            "012\n",
            "056\n",
            "1256\n"
          ]
        }
      ]
    },
    {
      "cell_type": "code",
      "source": [
        "a = int(input())\n",
        "b = int(input())\n",
        "c = a+b\n",
        "\n",
        "print(c)"
      ],
      "metadata": {
        "colab": {
          "base_uri": "https://localhost:8080/"
        },
        "id": "Y_jbopSPWw3k",
        "outputId": "bfff43ff-e77a-4e44-a925-63cfb35bde26"
      },
      "execution_count": null,
      "outputs": [
        {
          "output_type": "stream",
          "name": "stdout",
          "text": [
            "10\n",
            "45\n",
            "55\n"
          ]
        }
      ]
    },
    {
      "cell_type": "code",
      "source": [
        "a = input()\n",
        "b = input()\n",
        "\n",
        "print(\"My Name Is:\", a)\n",
        "print(\"My Age Is:\", b)\n"
      ],
      "metadata": {
        "colab": {
          "base_uri": "https://localhost:8080/"
        },
        "id": "6v-lp-_QXFd0",
        "outputId": "a6b9c512-32a0-4721-c33d-ec7309ba7cef"
      },
      "execution_count": null,
      "outputs": [
        {
          "output_type": "stream",
          "name": "stdout",
          "text": [
            "Anish\n",
            "27\n",
            "My Name Is: Anish\n",
            "My Age Is: 27\n"
          ]
        }
      ]
    },
    {
      "cell_type": "code",
      "source": [
        "name    = input()\n",
        "age     = input()\n",
        "address = input()\n",
        "\n",
        "print(\"My Name is:\", name)\n",
        "print(\"My AGe Is:\", age)\n",
        "print(\"My Address Is:\", address)\n"
      ],
      "metadata": {
        "colab": {
          "base_uri": "https://localhost:8080/"
        },
        "id": "xQAhldeUXqlZ",
        "outputId": "de01e2fb-63e9-434f-9b8c-b0c8fb298ef8"
      },
      "execution_count": null,
      "outputs": [
        {
          "output_type": "stream",
          "name": "stdout",
          "text": [
            "Anish\n",
            "27\n",
            "GN Mills, Coimbatore\n",
            "My Name is: Anish\n",
            "My AGe Is: 27\n",
            "My Address Is: GN Mills, Coimbatore\n"
          ]
        }
      ]
    },
    {
      "cell_type": "code",
      "source": [
        "a = int(input())\n",
        "b = int(input())\n",
        "c = int(input())\n",
        "\n",
        "x = (a*b*c)\n",
        "y = (a+b+c)\n",
        "z = (x/y)\n",
        "\n",
        "print(x)\n",
        "print(y)\n",
        "print(z)\n"
      ],
      "metadata": {
        "colab": {
          "base_uri": "https://localhost:8080/"
        },
        "id": "IsGwmiOtZGcd",
        "outputId": "52d0e149-e83b-4a4b-af31-0a2a44f81ba6"
      },
      "execution_count": null,
      "outputs": [
        {
          "output_type": "stream",
          "name": "stdout",
          "text": [
            "2\n",
            "3\n",
            "4\n",
            "24\n",
            "9\n",
            "2.6666666666666665\n"
          ]
        }
      ]
    },
    {
      "cell_type": "code",
      "source": [
        "name = input()\n",
        "score = int(input())\n",
        "department = input()\n",
        "\n",
        "print(\"My Name Is:\", name)\n",
        "print(\"My Score Is:\", score/10,\"/10\")\n",
        "print(\"My Department Is:\", department)\n"
      ],
      "metadata": {
        "colab": {
          "base_uri": "https://localhost:8080/"
        },
        "id": "J5Ervibba7A4",
        "outputId": "15d362f4-387a-45d0-ed77-5e8466034d99"
      },
      "execution_count": null,
      "outputs": [
        {
          "name": "stdout",
          "output_type": "stream",
          "text": [
            "Anish\n"
          ]
        }
      ]
    },
    {
      "cell_type": "code",
      "source": [
        "#if else\n",
        "\n",
        "Meghna = input()\n",
        "\n",
        "if Meghna == \"Died\":\n",
        "  print(\"Suriya Meets Priya\")\n",
        "else:\n",
        "  print(\"Suriya Weds Meghna\")\n"
      ],
      "metadata": {
        "id": "VdDa1tE5bpJ2",
        "colab": {
          "base_uri": "https://localhost:8080/"
        },
        "outputId": "86a6f209-2045-49d2-a081-1ea7426b07a1"
      },
      "execution_count": null,
      "outputs": [
        {
          "output_type": "stream",
          "name": "stdout",
          "text": [
            "died\n",
            "Suriya Weds Meghna\n"
          ]
        }
      ]
    },
    {
      "cell_type": "code",
      "source": [
        "a = input(int())\n",
        "\n",
        "print(a)"
      ],
      "metadata": {
        "id": "xDeOOEl8ApfK",
        "colab": {
          "base_uri": "https://localhost:8080/"
        },
        "outputId": "0e5f7f86-dd40-433c-9040-4555c9879a51"
      },
      "execution_count": null,
      "outputs": [
        {
          "output_type": "stream",
          "name": "stdout",
          "text": [
            "02\n",
            "2\n"
          ]
        }
      ]
    },
    {
      "cell_type": "code",
      "source": [
        "a = int(input())\n",
        "\n",
        "print(a)"
      ],
      "metadata": {
        "colab": {
          "base_uri": "https://localhost:8080/"
        },
        "id": "9iokA_-pWdx0",
        "outputId": "67b09ce2-6bc0-4015-c9a0-0fd55189cd15"
      },
      "execution_count": null,
      "outputs": [
        {
          "output_type": "stream",
          "name": "stdout",
          "text": [
            "2\n",
            "2\n"
          ]
        }
      ]
    },
    {
      "cell_type": "code",
      "source": [
        "a = int(input(\"Enter the integer vale :\"))\n",
        "\n",
        "print(a)"
      ],
      "metadata": {
        "colab": {
          "base_uri": "https://localhost:8080/"
        },
        "id": "PDXuJP26Xtjx",
        "outputId": "a4ab8413-da3a-4d5f-bbed-7d97cfcb825c"
      },
      "execution_count": null,
      "outputs": [
        {
          "output_type": "stream",
          "name": "stdout",
          "text": [
            "Enter the integer vale :2\n",
            "2\n"
          ]
        }
      ]
    },
    {
      "cell_type": "code",
      "source": [
        "int(7.5)%2"
      ],
      "metadata": {
        "id": "fYXSgur5YkFn",
        "colab": {
          "base_uri": "https://localhost:8080/"
        },
        "outputId": "d88daa06-bc0c-4a8a-9d2d-d3cf135dbf3c"
      },
      "execution_count": null,
      "outputs": [
        {
          "output_type": "execute_result",
          "data": {
            "text/plain": [
              "1"
            ]
          },
          "metadata": {},
          "execution_count": 9
        }
      ]
    },
    {
      "cell_type": "code",
      "source": [],
      "metadata": {
        "id": "WgeF5jifpD-X"
      },
      "execution_count": null,
      "outputs": []
    }
  ]
}