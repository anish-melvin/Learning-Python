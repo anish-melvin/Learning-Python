{
  "nbformat": 4,
  "nbformat_minor": 0,
  "metadata": {
    "colab": {
      "provenance": [],
      "authorship_tag": "ABX9TyP0TFsQTVEszO8VlSp2yKfM",
      "include_colab_link": true
    },
    "kernelspec": {
      "name": "python3",
      "display_name": "Python 3"
    },
    "language_info": {
      "name": "python"
    }
  },
  "cells": [
    {
      "cell_type": "markdown",
      "metadata": {
        "id": "view-in-github",
        "colab_type": "text"
      },
      "source": [
        "<a href=\"https://colab.research.google.com/github/anish-melvin/Learning-Python/blob/main/MDTM26_Day_1%262.ipynb\" target=\"_parent\"><img src=\"https://colab.research.google.com/assets/colab-badge.svg\" alt=\"Open In Colab\"/></a>"
      ]
    },
    {
      "cell_type": "markdown",
      "source": [
        " **Day 1 & 2 - Python Basic**"
      ],
      "metadata": {
        "id": "3pleT8QAN2ZF"
      }
    },
    {
      "cell_type": "code",
      "source": [
        "#bmi calculator\n",
        "bmi = weight/height**2"
      ],
      "metadata": {
        "id": "wQu7N4i6Oe3d"
      },
      "execution_count": null,
      "outputs": []
    },
    {
      "cell_type": "code",
      "source": [
        "Name = input(\"enter your name :\")\n",
        "Weight = float(input(\"enter your weight :\"))\n",
        "Height = float(input(\"enter your height :\"))\n",
        "bmi = round(Weight/Height**2,2)\n",
        "\n",
        "print(\"Hello !\", Name,\"\\nWelcome to GUVI\" \"\\nYour BMI is \",bmi)"
      ],
      "metadata": {
        "colab": {
          "base_uri": "https://localhost:8080/"
        },
        "id": "4TGER9QfQL0n",
        "outputId": "93364340-281f-4b25-e2bb-217f625c519c"
      },
      "execution_count": null,
      "outputs": [
        {
          "output_type": "stream",
          "name": "stdout",
          "text": [
            "enter your name :anISH\n",
            "enter your weight :75\n",
            "enter your height :186\n",
            "Hello ! anISH \n",
            "Welcome to GUVI\n",
            "Your BMI is  0.0\n"
          ]
        }
      ]
    },
    {
      "cell_type": "code",
      "source": [
        "#prime number\n",
        "\n",
        "a = int(input(\"Enter a number \"))\n",
        "\n",
        "for i in range (2,a):\n",
        "  if a%i == 0:\n",
        "    print(\"not a prime\")\n",
        "    break\n",
        "else:\n",
        "  print(\"prime\")"
      ],
      "metadata": {
        "colab": {
          "base_uri": "https://localhost:8080/"
        },
        "id": "TWQ5En4kU9xu",
        "outputId": "d16181c3-d4dd-4472-b67a-19eb8b8edb43"
      },
      "execution_count": null,
      "outputs": [
        {
          "output_type": "stream",
          "name": "stdout",
          "text": [
            "Enter a number 11\n",
            "prime\n"
          ]
        }
      ]
    },
    {
      "cell_type": "code",
      "source": [],
      "metadata": {
        "id": "Mho9b1mie5bB"
      },
      "execution_count": null,
      "outputs": []
    }
  ]
}